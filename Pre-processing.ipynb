{
 "cells": [
  {
   "cell_type": "code",
   "execution_count": 1,
   "metadata": {
    "scrolled": true
   },
   "outputs": [
    {
     "data": {
      "text/plain": [
       "['SIMPANG 4 PATUNG KUDA',\n",
       " 'keterangan - CCTV DISHUB BANYUWANGI 21 JANUARI 2019',\n",
       " 'SIMPANG 3 DPR',\n",
       " 'SIMPANG 4 CUNGKING',\n",
       " 'SIMPANG 5 PUSAT KOTA']"
      ]
     },
     "execution_count": 1,
     "metadata": {},
     "output_type": "execute_result"
    }
   ],
   "source": [
    "import os\n",
    "\n",
    "datapath = 'cctv/'\n",
    "foldernames = os.listdir(datapath)\n",
    "foldernames"
   ]
  },
  {
   "cell_type": "code",
   "execution_count": 2,
   "metadata": {},
   "outputs": [
    {
     "data": {
      "text/plain": [
       "['patungkuda utara 1900_x264.mp4',\n",
       " 'patungkuda utara 0700_x264.mp4',\n",
       " 'patungkuda barat 1600_x264.mp4',\n",
       " 'patungkuda barat 0145_x264.mp4',\n",
       " 'patungkuda barat 1200_x264.mp4',\n",
       " 'patungkuda barat 1900_x264.mp4',\n",
       " 'patungkuda utara 1200_x264.mp4',\n",
       " 'patungkuda barat 0700_x264.mp4',\n",
       " 'patungkuda selatan 1200_x264.mp4',\n",
       " 'patungkuda selatan 0145_x264.mp4',\n",
       " 'patungkuda selatan 0700_x264.mp4',\n",
       " 'patungkuda selatan 1900_x264.mp4',\n",
       " 'patungkuda utara 0145_x264.mp4',\n",
       " 'patungkuda selatan 1600_x264.mp4',\n",
       " 'patungkuda utara 1600_x264.mp4']"
      ]
     },
     "execution_count": 2,
     "metadata": {},
     "output_type": "execute_result"
    }
   ],
   "source": [
    "kuda_folder_name = 'SIMPANG 4 PATUNG KUDA'\n",
    "kuda_path = datapath + kuda_folder_name + '/'\n",
    "videos = os.listdir(kuda_path)\n",
    "videos"
   ]
  },
  {
   "cell_type": "code",
   "execution_count": 3,
   "metadata": {},
   "outputs": [],
   "source": [
    "import cv2\n",
    "import numpy as np\n",
    "import os"
   ]
  },
  {
   "cell_type": "code",
   "execution_count": null,
   "metadata": {
    "scrolled": true
   },
   "outputs": [
    {
     "name": "stdout",
     "output_type": "stream",
     "text": [
      "Creating..../frame/cctv_SIMPANG 4 PATUNG KUDA_patungkuda barat 1200_x264.mp4/0003475.jpg\n",
      "Creating images done.\n",
      "Creating..../frame/cctv_SIMPANG 4 PATUNG KUDA_patungkuda utara 1200_x264.mp4/0002890.jpg"
     ]
    }
   ],
   "source": [
    "# Assume the frames will be less than 10000000 so we add 7 zero pad\n",
    "\n",
    "folder_exists = False\n",
    "try:\n",
    "    if not os.path.exists('frame'):\n",
    "        os.makedirs('frame')\n",
    "    folder_exists = True\n",
    "except OSError:\n",
    "    print ('Error: Creating directory of data')\n",
    "    folder_exists = False\n",
    "\n",
    "if folder_exists:\n",
    "    for i, vid_name in enumerate(videos):\n",
    "            \n",
    "        # Coba dulu buat 1 video, video patungkuda selatan 1200.\n",
    "        # Ntar kalo bisa, skalain.\n",
    "        if not (i == 4 or i == 6 or i == 8):\n",
    "            continue\n",
    "        \n",
    "        kuda_path_vid_name = './frame/' + kuda_path.replace('/','_') + vid_name\n",
    "        \n",
    "        folder_exists = False\n",
    "        try:\n",
    "            if not os.path.exists(kuda_path_vid_name):\n",
    "                os.makedirs(kuda_path_vid_name)\n",
    "            folder_exists = True\n",
    "        except OSError:\n",
    "            print ('Error: Creating directory of data')\n",
    "            folder_exists = False\n",
    "        \n",
    "        if not folder_exists:\n",
    "            continue\n",
    "        \n",
    "        cap = cv2.VideoCapture(kuda_path + vid_name)\n",
    "        \n",
    "        currentFrame = 0\n",
    "\n",
    "        try:\n",
    "            while(cap.isOpened()):\n",
    "                ret, frame = cap.read()\n",
    "                if not ret:\n",
    "                    break\n",
    "\n",
    "                # Saves image of the current frame in jpg file\n",
    "                name = kuda_path_vid_name + '/' + str(currentFrame).zfill(7) + '.jpg'\n",
    "                if currentFrame % 5 == 0:\n",
    "                    print ('\\rCreating...' + name, end='')\n",
    "                cv2.imwrite(name, frame)\n",
    "\n",
    "                # To stop duplicate images\n",
    "                currentFrame += 1\n",
    "            print('\\nCreating images done.')\n",
    "        finally:\n",
    "            # When everything done, release the video capture object\n",
    "            cap.release()\n",
    "            cv2.destroyAllWindows()"
   ]
  },
  {
   "cell_type": "code",
   "execution_count": null,
   "metadata": {},
   "outputs": [],
   "source": []
  }
 ],
 "metadata": {
  "kernelspec": {
   "display_name": "Python 3",
   "language": "python",
   "name": "python3"
  },
  "language_info": {
   "codemirror_mode": {
    "name": "ipython",
    "version": 3
   },
   "file_extension": ".py",
   "mimetype": "text/x-python",
   "name": "python",
   "nbconvert_exporter": "python",
   "pygments_lexer": "ipython3",
   "version": "3.7.1"
  }
 },
 "nbformat": 4,
 "nbformat_minor": 2
}
