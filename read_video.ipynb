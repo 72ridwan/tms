{
 "cells": [
  {
   "cell_type": "code",
   "execution_count": 26,
   "metadata": {},
   "outputs": [],
   "source": [
    "import numpy as np\n",
    "import cv2\n",
    "import os\n",
    "import pandas as pd"
   ]
  },
  {
   "cell_type": "code",
   "execution_count": 27,
   "metadata": {},
   "outputs": [
    {
     "data": {
      "text/plain": [
       "cctv_folder_parent    SIMPANG 4 PATUNG KUDA\n",
       "map_image_name        SIMPANG 4 PATUNG KUDA\n",
       "Name: 2, dtype: object"
      ]
     },
     "execution_count": 27,
     "metadata": {},
     "output_type": "execute_result"
    }
   ],
   "source": [
    "tabel = pd.read_csv('regions.csv')\n",
    "kuda = tabel.loc[2]\n",
    "kuda"
   ]
  },
  {
   "cell_type": "code",
   "execution_count": 22,
   "metadata": {},
   "outputs": [],
   "source": [
    "kuda_cctv_path = 'cctv\\\\' + kuda.loc['cctv_folder_parent']\n",
    "kuda_cctv_map  = 'map\\\\' + kuda.loc['cctv_folder_parent']"
   ]
  },
  {
   "cell_type": "markdown",
   "metadata": {},
   "source": [
    "The perspective warp points is based on this equation:\n",
    "\n",
    "$\\begin{bmatrix}x'\\\\y'\\\\1\\end{bmatrix} = \n",
    "\\begin{bmatrix}m_{0,0} & m_{0,1} & m_{0,2}\\\\m_{1,0} & m_{1,1} & m_{1,2}\\\\m_{2,0} & m_{2,1} & m_{2,2}\\end{bmatrix} *\n",
    "\\begin{bmatrix}x\\\\y\\\\1\\end{bmatrix}$"
   ]
  },
  {
   "cell_type": "code",
   "execution_count": 126,
   "metadata": {},
   "outputs": [],
   "source": [
    "def warpPerspectivePoints(pts, M):\n",
    "    # NOTES: Please implement this in a way that does not involve\n",
    "    # for loop :(\n",
    "    #pts_warp = []\n",
    "    #for p_i in pts:\n",
    "    #    pts_x = M[0,0] * p_i[0] + M[0,1] * p_i[1] + M[0, 2]\n",
    "    #    pts_y = M[1,0] * p_i[0] + M[1,1] * p_i[1] + M[1, 2]\n",
    "    #    pts_div = M[2,0] * p_i[0] + M[2,1] * p_i[1] + M[2, 2]\n",
    "    #    pts_new = np.float32([pts_x, pts_y])\n",
    "    #    pts_new /= pts_div\n",
    "    #    pts_warp.append(pts_new)\n",
    "    #return np.array(pts_warp)\n",
    "    \n",
    "    trans = np.hstack((pts, np.ones((4,1)))) # Add ones at the bottom of matrix\n",
    "    trans = np.matmul(M, np.transpose(trans))\n",
    "    return np.transpose(trans[0:2,:] / trans[2:])"
   ]
  },
  {
   "cell_type": "code",
   "execution_count": 127,
   "metadata": {},
   "outputs": [],
   "source": [
    "parent_folder = kuda_cctv_path\n",
    "image_map = kuda_cctv_map\n",
    " \n",
    "# Create a VideoCapture object and read from input file\n",
    "# If the input is the camera, pass 0 instead of the video file name\n",
    "cap = cv2.VideoCapture(parent_folder + '\\patungkuda selatan 1200_x264.mp4')\n",
    "map = cv2.imread(image_map)\n",
    " \n",
    "# Check if camera opened successfully\n",
    "if (cap.isOpened()== False): \n",
    "    print(\"Error opening video stream or file\")\n",
    "\n",
    "x = 0\n",
    "dim_x, dim_y = None, None\n",
    "\n",
    "pts1 = np.float32([[97, 273],[363, 236], [1074, 476], [187, 770]])\n",
    "pts2 = np.float32([[0, 0], [1080, 0], [1080, 720], [0, 720]])/2\n",
    "\n",
    "M = cv2.getPerspectiveTransform(pts1,pts2)\n",
    "pts_transform = np.int32(warpPerspectivePoints(pts1, M))\n",
    "\n",
    "ii = 0\n",
    "ord_q = ord('q') # For quit button\n",
    "ord_p = ord('p') # For pause button\n",
    "\n",
    "dim_x = np.max(pts2[:,0])\n",
    "dim_y = np.max(pts2[:,1])\n",
    "\n",
    "finished = False\n",
    "try:\n",
    "    while(cap.isOpened() and not finished):\n",
    "        ret, frame = cap.read()\n",
    "        if ret == True:\n",
    "\n",
    "            f = frame\n",
    "            dst = cv2.warpPerspective(f,M,(dim_x, dim_y))\n",
    "            \n",
    "            for i in pts_transform:\n",
    "                cv2.circle(dst, tuple(i), 9, (0,255,0), -1)\n",
    "            \n",
    "            for i in pts1:\n",
    "                cv2.circle(f, tuple(i), 9, (0,255,0), -1)\n",
    "                \n",
    "            cv2.imshow('Frame2',f)\n",
    "            cv2.imshow('Frame', dst)\n",
    "            \n",
    "            # Press Q on keyboard to  exit\n",
    "            k = cv2.waitKey(25) & 0xFF\n",
    "            finished = k == ord_q       \n",
    "            if k == ord_p:\n",
    "                while True:\n",
    "                    k = cv2.waitKey(25) & 0xFF\n",
    "                    finished = k == ord_q        \n",
    "                    \n",
    "                    if k == ord_p or k == ord_q:\n",
    "                        break\n",
    "            ii += 1\n",
    "\n",
    "        # Break the loop\n",
    "        else: \n",
    "            break\n",
    "except KeyboardInterrupt:\n",
    "    pass\n",
    "finally:\n",
    "    # When everything done, release the video capture object\n",
    "    cap.release()\n",
    "\n",
    "    # Closes all the frames\n",
    "    cv2.destroyAllWindows()"
   ]
  }
 ],
 "metadata": {
  "kernelspec": {
   "display_name": "Python 3",
   "language": "python",
   "name": "python3"
  },
  "language_info": {
   "codemirror_mode": {
    "name": "ipython",
    "version": 3
   },
   "file_extension": ".py",
   "mimetype": "text/x-python",
   "name": "python",
   "nbconvert_exporter": "python",
   "pygments_lexer": "ipython3",
   "version": "3.7.1"
  }
 },
 "nbformat": 4,
 "nbformat_minor": 2
}
